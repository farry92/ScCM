{
 "cells": [
  {
   "cell_type": "code",
   "execution_count": null,
   "id": "a0b17ea6",
   "metadata": {},
   "outputs": [],
   "source": [
    "import numpy as np\n",
    "import pandas as pd\n",
    "import scanpy as sc\n",
    "\n",
    "# Generate a virtual dataset\n",
    "num_cells = 1000000  # Number of cells\n",
    "num_genes = 3000  # Number of genes\n",
    "\n",
    "# Generate a random gene expression matrix\n",
    "gene_expression = np.random.rand(num_cells, num_genes)\n",
    "\n",
    "# Create metadata\n",
    "cell_metadata = pd.DataFrame({\n",
    "    'CellID': [f'cell{i}' for i in range(num_cells)],\n",
    "    'CellType': np.random.choice(['TypeA', 'TypeB', 'TypeC'], num_cells),\n",
    "    'Batch': np.random.choice(['Batch1', 'Batch2'], num_cells),\n",
    "})\n",
    "\n",
    "# Create an AnnData object\n",
    "adata = sc.AnnData(X=gene_expression, obs=cell_metadata)\n",
    "\n",
    "# Save as an H5AD file\n",
    "adata.write('virtual_dataset.h5ad')"
   ]
  }
 ],
 "metadata": {
  "kernelspec": {
   "display_name": "Python 3 (ipykernel)",
   "language": "python",
   "name": "python3"
  },
  "language_info": {
   "codemirror_mode": {
    "name": "ipython",
    "version": 3
   },
   "file_extension": ".py",
   "mimetype": "text/x-python",
   "name": "python",
   "nbconvert_exporter": "python",
   "pygments_lexer": "ipython3",
   "version": "3.8.8"
  }
 },
 "nbformat": 4,
 "nbformat_minor": 5
}
