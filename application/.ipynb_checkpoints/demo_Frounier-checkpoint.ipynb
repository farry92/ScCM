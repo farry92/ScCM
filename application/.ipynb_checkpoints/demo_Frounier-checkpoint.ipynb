{
 "cells": [
  {
   "cell_type": "code",
   "execution_count": null,
   "id": "3badd72d",
   "metadata": {},
   "outputs": [],
   "source": [
    "import scvi\n",
    "import tensorflow as tf\n",
    "import numpy as np\n",
    "import time\n",
    "import pandas as pd\n",
    "from sklearn.model_selection import train_test_split\n",
    "from sklearn.manifold import TSNE\n",
    "import matplotlib.pyplot as plt\n",
    "import scanpy as sc\n",
    "import matplotlib.pyplot as pl\n",
    "from matplotlib import rcParams\n",
    "from collections import Counter\n",
    "import bbknn\n",
    "from pyecharts.charts import Sankey\n",
    "from pyecharts import options as opts\n",
    "from pyecharts.globals import ThemeType\n",
    "from pyecharts.globals import CurrentConfig, NotebookType\n",
    "from sklearn.metrics import homogeneity_score, completeness_score, v_measure_score, adjusted_rand_score as ARI, normalized_mutual_info_score as NMI, silhouette_score, accuracy_score, calinski_harabasz_score, confusion_matrix\n",
    "import plotly.graph_objects as go\n",
    "from gseapy import enrichr\n",
    "import anndata as ad\n",
    "from sklearn.decomposition import PCA\n",
    "from sklearn.cluster import KMeans\n",
    "\n",
    "import desc    \n",
    "import os              \n",
    "os.environ['PYTHONHASHSEED'] = '0'                                                   \n",
    "import sys\n",
    "%matplotlib inline \n",
    "sc.settings.set_figure_params(dpi=100)"
   ]
  },
  {
   "cell_type": "code",
   "execution_count": null,
   "id": "6f4689b5",
   "metadata": {},
   "outputs": [],
   "source": [
    "input_path = \"\"\n",
    "%run /geniusland/home/fangyi/jupyter/CLEAR-main/Revise.py \\\n",
    "--input_h5ad_path={input_path} \\\n",
    "--aug_prob 0.0 --epochs 10 --lr 0.0005 --moco-t 0.8 \\\n",
    "--batch_size 4096 --obs_label_colname \"\" "
   ]
  },
  {
   "cell_type": "code",
   "execution_count": null,
   "id": "0f8b760c",
   "metadata": {},
   "outputs": [],
   "source": [
    "count_csv_path = f\"./result/CLEAR/feature_CLEAR_{name}_original{gene}_preprocessed.csv\"\n",
    "label_csv_path=f\"./result/CLEAR/gt_label_CLEAR_{name}_original{gene}_preprocessed.csv\"\n",
    "count_frame = pd.read_csv(count_csv_path, index_col=None, header=None, )\n",
    "label_frame = pd.read_csv(label_csv_path, index_col=0, header=0)\n",
    "adata = sc.AnnData(X=count_frame, obs=label_frame)\n",
    "# 自分类\n",
    "label_csv_path2=f\"./result/CLEAR/pd_label_CLEAR_{name}_original{gene}_preprocessed.csv\"\n",
    "label_auto = pd.read_csv(label_csv_path2, index_col=0, header=0)\n",
    "# obs合并\n",
    "label_auto.index = adata.obs.index\n",
    "adata.obs['Auto_cluster'] = label_auto.kmeans.map(Auto_Cluster).astype('category')\n",
    "adata.obs['kmeans'] = label_auto.kmeans.astype('category')\n",
    "sc.tl.pca(adata, svd_solver='arpack')\n",
    "sc.pl.pca_variance_ratio(adata, log=True)\n",
    "# 细胞聚类\n",
    "sc.pp.neighbors(adata, n_neighbors=25,n_pcs=35)\n",
    "sc.tl.leiden(adata,resolution=1)\n",
    "# sc.tl.louvain(adata) \n",
    "sc.tl.umap(adata,min_dist=0.2)\n",
    "sc.pl.umap(adata,color=['x', 'leiden', 'Auto_cluster'],add_outline=False,legend_fontsize=10, \n",
    "           legend_loc='on data',legend_fontoutline=0.5,size=5,frameon=False,\n",
    "           title=['label'])\n",
    "# 常用分群算法包括leiden和louvain\n",
    "color_list = ['x', 'Auto_cluster', 'leiden']\n",
    "title_list = ['Cluster', 'Auto_cluster','leiden']\n",
    "palette_dict = {'x': 'tab20',\n",
    "                'Auto_cluster':Auto_colors,\n",
    "                'leiden':'tab20'}\n",
    "\n",
    "for i in range(len(color_list)):\n",
    "    color = color_list[i]\n",
    "    title = title_list[i]\n",
    "    palette = palette_dict[color]\n",
    "    legend_loc = 'on data'\n",
    "    sc.pl.umap(adata, color=[color],legend_fontsize = 8,frameon=False,\n",
    "               legend_fontoutline=0.5, size=3, title=[title], legend_loc=legend_loc,\n",
    "               palette=palette)\n"
   ]
  }
 ],
 "metadata": {
  "kernelspec": {
   "display_name": "Python 3 (ipykernel)",
   "language": "python",
   "name": "python3"
  },
  "language_info": {
   "codemirror_mode": {
    "name": "ipython",
    "version": 3
   },
   "file_extension": ".py",
   "mimetype": "text/x-python",
   "name": "python",
   "nbconvert_exporter": "python",
   "pygments_lexer": "ipython3",
   "version": "3.8.8"
  }
 },
 "nbformat": 4,
 "nbformat_minor": 5
}
